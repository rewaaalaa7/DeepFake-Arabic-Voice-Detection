{
 "cells": [
  {
   "cell_type": "code",
   "execution_count": 36,
   "metadata": {},
   "outputs": [],
   "source": [
    "import torch\n",
    "from deepFake_model import DeepFakeDetectionModel\n",
    "import os"
   ]
  },
  {
   "cell_type": "code",
   "execution_count": 13,
   "metadata": {},
   "outputs": [],
   "source": [
    "x = torch.load('deepFakeDetection.pth')\n",
    "model_args = {\n",
    "    'n_layers': 5, 'n_hidden': 256, 'bias': True, 'drop_out': 0.1\n",
    "    }"
   ]
  },
  {
   "cell_type": "code",
   "execution_count": 14,
   "metadata": {},
   "outputs": [
    {
     "data": {
      "text/plain": [
       "<All keys matched successfully>"
      ]
     },
     "execution_count": 14,
     "metadata": {},
     "output_type": "execute_result"
    }
   ],
   "source": [
    "model = DeepFakeDetectionModel(**model_args)\n",
    "model.load_state_dict(x['model'])\n"
   ]
  },
  {
   "cell_type": "code",
   "execution_count": 48,
   "metadata": {},
   "outputs": [],
   "source": [
    "import torch\n",
    "from torch.utils.data import Dataset, DataLoader\n",
    "import pandas as pd\n",
    "import numpy as np\n",
    "from sklearn.metrics import confusion_matrix\n",
    "\n",
    "device = 'cuda' if torch.cuda.is_available() else 'cpu'\n",
    "torch.manual_seed(55)\n",
    "if torch.cuda.is_available():\n",
    "    torch.cuda.manual_seed(55)\n",
    "\n",
    "\n",
    "\n",
    "class CSVDataset(Dataset):\n",
    "    def __init__(self, data):\n",
    "        self.X = data.iloc[:, :-1].values \n",
    "        self.y = data.iloc[:, -1].values   \n",
    "\n",
    "    def __len__(self):\n",
    "        return len(self.X)\n",
    "\n",
    "    def __getitem__(self, idx):\n",
    "        X = torch.tensor(self.X[idx], dtype=torch.float32 , device = device)\n",
    "        y = torch.tensor(self.y[idx], dtype=torch.float32 , device = device)\n",
    "        return X, y\n",
    "\n",
    "\n",
    "#csv_file =r\"D:\\projects\\DeepFake-Arabic-Voice-Detection\\NN\\testing samples\\REAL\\mariamAR.csv\"\n",
    "#csv_file = r'D:\\projects\\DeepFake-Arabic-Voice-Detection\\NN\\testing samples\\REAL\\englishAudio.csv'\n",
    "#csv_file = r'D:\\projects\\DeepFake-Arabic-Voice-Detection\\NN\\testing samples\\FAKE\\mariam_to_aboENG.csv'\n",
    "#csv_file = r'D:\\projects\\DeepFake-Arabic-Voice-Detection\\NN\\testing samples\\FAKE\\mariam_to_margotAR.csv'\n",
    "csv_file = r'D:\\projects\\DeepFake-Arabic-Voice-Detection\\NN\\testing samples\\FAKE\\mariam_to_nedalAR.csv'\n",
    "\n",
    "\n",
    "data = pd.read_csv(csv_file)\n",
    "\n",
    "inference_dataset = CSVDataset(data)\n",
    "batch_size = 128\n",
    "inference_dataloader = DataLoader(inference_dataset, batch_size=batch_size, shuffle=True)\n"
   ]
  },
  {
   "cell_type": "code",
   "execution_count": 49,
   "metadata": {},
   "outputs": [
    {
     "data": {
      "text/plain": [
       "DeepFakeDetectionModel(\n",
       "  (ST_ln): LayerNorm((26,), eps=1e-05, elementwise_affine=True)\n",
       "  (ST_fc): Linear(in_features=26, out_features=256, bias=True)\n",
       "  (dropout): Dropout(p=0.1, inplace=False)\n",
       "  (layers): ModuleList(\n",
       "    (0-4): 5 x block(\n",
       "      (ln): LayerNorm((256,), eps=1e-05, elementwise_affine=True)\n",
       "      (fc): Linear(in_features=256, out_features=256, bias=True)\n",
       "      (relu): ReLU()\n",
       "      (dropout): Dropout(p=0.1, inplace=False)\n",
       "    )\n",
       "  )\n",
       "  (LAST_fc): Linear(in_features=256, out_features=1, bias=True)\n",
       "  (LAST_ln): LayerNorm((256,), eps=1e-05, elementwise_affine=True)\n",
       "  (sigmoid): Sigmoid()\n",
       ")"
      ]
     },
     "execution_count": 49,
     "metadata": {},
     "output_type": "execute_result"
    }
   ],
   "source": [
    "model = model.to(device)\n",
    "model.eval()"
   ]
  },
  {
   "cell_type": "code",
   "execution_count": 50,
   "metadata": {},
   "outputs": [
    {
     "name": "stdout",
     "output_type": "stream",
     "text": [
      "\n",
      "    TP | FN\n",
      "    -------\n",
      "    FP | TN\n",
      "    \n",
      "train confusion matrix : [0 0]   \n",
      "                    [ 5 55]\n",
      "train accuracy : 0.917\n"
     ]
    }
   ],
   "source": [
    "inference_confusion_mat = np.zeros((2,2) , dtype=int)\n",
    "\n",
    "for X , _ in inference_dataloader:\n",
    "    \n",
    "        \n",
    "    if os.path.basename(os.path.dirname(csv_file)) == \"FAKE\":\n",
    "        y = torch.ones((X.shape[0],1))\n",
    "    elif os.path.basename(os.path.dirname(csv_file)) == \"REAL\":\n",
    "        y = torch.zeros((X.shape[0],1))\n",
    "    else:\n",
    "        continue\n",
    "\n",
    "    print(\"\"\"\n",
    "    TP | FN\n",
    "    -------\n",
    "    FP | TN\n",
    "    \"\"\")\n",
    "\n",
    "    \n",
    "    \n",
    "    \n",
    "    outputs = model(X)\n",
    "    \n",
    "    \n",
    "    preds = (outputs > 0.5).float().cpu().detach().numpy()\n",
    "    inference_confusion_mat += confusion_matrix(y.cpu().detach().numpy() , preds)\n",
    "    \n",
    "    \n",
    "    print(f\"\"\"train confusion matrix : {inference_confusion_mat[0]}   \n",
    "                    {inference_confusion_mat[1]}\"\"\")\n",
    "    print(f\"train accuracy : {(inference_confusion_mat[0,0]+inference_confusion_mat[1,1]) / np.sum(inference_confusion_mat):.3f}\")\n",
    "        \n"
   ]
  },
  {
   "cell_type": "code",
   "execution_count": null,
   "metadata": {},
   "outputs": [],
   "source": []
  }
 ],
 "metadata": {
  "kernelspec": {
   "display_name": "torch-gpu",
   "language": "python",
   "name": "python3"
  },
  "language_info": {
   "codemirror_mode": {
    "name": "ipython",
    "version": 3
   },
   "file_extension": ".py",
   "mimetype": "text/x-python",
   "name": "python",
   "nbconvert_exporter": "python",
   "pygments_lexer": "ipython3",
   "version": "3.11.5"
  }
 },
 "nbformat": 4,
 "nbformat_minor": 2
}
