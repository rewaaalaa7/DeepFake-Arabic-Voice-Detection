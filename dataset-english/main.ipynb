{
 "cells": [
  {
   "cell_type": "code",
   "execution_count": 1,
   "metadata": {},
   "outputs": [
    {
     "name": "stdout",
     "output_type": "stream",
     "text": [
      "Defaulting to user installation because normal site-packages is not writeable\n",
      "Requirement already satisfied: librosa in c:\\users\\chipset\\appdata\\roaming\\python\\python312\\site-packages (0.10.1)\n",
      "Requirement already satisfied: audioread>=2.1.9 in c:\\users\\chipset\\appdata\\roaming\\python\\python312\\site-packages (from librosa) (3.0.1)\n",
      "Requirement already satisfied: numpy!=1.22.0,!=1.22.1,!=1.22.2,>=1.20.3 in c:\\users\\chipset\\appdata\\roaming\\python\\python312\\site-packages (from librosa) (1.26.1)\n",
      "Requirement already satisfied: scipy>=1.2.0 in c:\\users\\chipset\\appdata\\roaming\\python\\python312\\site-packages (from librosa) (1.13.0)\n",
      "Requirement already satisfied: scikit-learn>=0.20.0 in c:\\users\\chipset\\appdata\\roaming\\python\\python312\\site-packages (from librosa) (1.4.2)\n",
      "Requirement already satisfied: joblib>=0.14 in c:\\users\\chipset\\appdata\\roaming\\python\\python312\\site-packages (from librosa) (1.4.0)\n",
      "Requirement already satisfied: decorator>=4.3.0 in c:\\users\\chipset\\appdata\\roaming\\python\\python312\\site-packages (from librosa) (5.1.1)\n",
      "Requirement already satisfied: numba>=0.51.0 in c:\\users\\chipset\\appdata\\roaming\\python\\python312\\site-packages (from librosa) (0.59.1)\n",
      "Requirement already satisfied: soundfile>=0.12.1 in c:\\users\\chipset\\appdata\\roaming\\python\\python312\\site-packages (from librosa) (0.12.1)\n",
      "Requirement already satisfied: pooch>=1.0 in c:\\users\\chipset\\appdata\\roaming\\python\\python312\\site-packages (from librosa) (1.8.1)\n",
      "Requirement already satisfied: soxr>=0.3.2 in c:\\users\\chipset\\appdata\\roaming\\python\\python312\\site-packages (from librosa) (0.3.7)\n",
      "Requirement already satisfied: typing-extensions>=4.1.1 in c:\\users\\chipset\\appdata\\roaming\\python\\python312\\site-packages (from librosa) (4.11.0)\n",
      "Requirement already satisfied: lazy-loader>=0.1 in c:\\users\\chipset\\appdata\\roaming\\python\\python312\\site-packages (from librosa) (0.4)\n",
      "Requirement already satisfied: msgpack>=1.0 in c:\\users\\chipset\\appdata\\roaming\\python\\python312\\site-packages (from librosa) (1.0.8)\n",
      "Requirement already satisfied: packaging in c:\\users\\chipset\\appdata\\roaming\\python\\python312\\site-packages (from lazy-loader>=0.1->librosa) (24.0)\n",
      "Requirement already satisfied: llvmlite<0.43,>=0.42.0dev0 in c:\\users\\chipset\\appdata\\roaming\\python\\python312\\site-packages (from numba>=0.51.0->librosa) (0.42.0)\n",
      "Requirement already satisfied: platformdirs>=2.5.0 in c:\\users\\chipset\\appdata\\roaming\\python\\python312\\site-packages (from pooch>=1.0->librosa) (4.2.0)\n",
      "Requirement already satisfied: requests>=2.19.0 in c:\\users\\chipset\\appdata\\roaming\\python\\python312\\site-packages (from pooch>=1.0->librosa) (2.31.0)\n",
      "Requirement already satisfied: threadpoolctl>=2.0.0 in c:\\users\\chipset\\appdata\\roaming\\python\\python312\\site-packages (from scikit-learn>=0.20.0->librosa) (3.4.0)\n",
      "Requirement already satisfied: cffi>=1.0 in c:\\users\\chipset\\appdata\\roaming\\python\\python312\\site-packages (from soundfile>=0.12.1->librosa) (1.16.0)\n",
      "Requirement already satisfied: pycparser in c:\\users\\chipset\\appdata\\roaming\\python\\python312\\site-packages (from cffi>=1.0->soundfile>=0.12.1->librosa) (2.22)\n",
      "Requirement already satisfied: charset-normalizer<4,>=2 in c:\\users\\chipset\\appdata\\roaming\\python\\python312\\site-packages (from requests>=2.19.0->pooch>=1.0->librosa) (3.3.2)\n",
      "Requirement already satisfied: idna<4,>=2.5 in c:\\users\\chipset\\appdata\\roaming\\python\\python312\\site-packages (from requests>=2.19.0->pooch>=1.0->librosa) (3.7)\n",
      "Requirement already satisfied: urllib3<3,>=1.21.1 in c:\\users\\chipset\\appdata\\roaming\\python\\python312\\site-packages (from requests>=2.19.0->pooch>=1.0->librosa) (2.2.1)\n",
      "Requirement already satisfied: certifi>=2017.4.17 in c:\\users\\chipset\\appdata\\roaming\\python\\python312\\site-packages (from requests>=2.19.0->pooch>=1.0->librosa) (2024.2.2)\n",
      "Note: you may need to restart the kernel to use updated packages.\n"
     ]
    },
    {
     "name": "stderr",
     "output_type": "stream",
     "text": [
      "\n",
      "[notice] A new release of pip is available: 23.2.1 -> 24.0\n",
      "[notice] To update, run: python.exe -m pip install --upgrade pip\n"
     ]
    }
   ],
   "source": [
    "pip install librosa"
   ]
  },
  {
   "cell_type": "code",
   "execution_count": 2,
   "metadata": {},
   "outputs": [
    {
     "name": "stdout",
     "output_type": "stream",
     "text": [
      "Defaulting to user installation because normal site-packages is not writeable\n",
      "Requirement already satisfied: numpy in c:\\users\\chipset\\appdata\\roaming\\python\\python312\\site-packages (1.26.1)\n",
      "Note: you may need to restart the kernel to use updated packages.\n"
     ]
    },
    {
     "name": "stderr",
     "output_type": "stream",
     "text": [
      "\n",
      "[notice] A new release of pip is available: 23.2.1 -> 24.0\n",
      "[notice] To update, run: python.exe -m pip install --upgrade pip\n"
     ]
    }
   ],
   "source": [
    "pip install numpy"
   ]
  },
  {
   "cell_type": "code",
   "execution_count": 3,
   "metadata": {},
   "outputs": [],
   "source": [
    "import librosa\n",
    "import os\n",
    "import numpy as np\n",
    "import csv \n",
    "\n",
    "SR=22050\n",
    "HOP= 22050//2 +1 \n",
    "\n",
    "mfccs_range=[f'MFCC{i}' for i in range(1,21)]"
   ]
  },
  {
   "cell_type": "code",
   "execution_count": 4,
   "metadata": {},
   "outputs": [
    {
     "name": "stdout",
     "output_type": "stream",
     "text": [
      "Defaulting to user installation because normal site-packages is not writeable\n",
      "Requirement already satisfied: setuptools in c:\\users\\chipset\\appdata\\roaming\\python\\python312\\site-packages (69.5.1)\n",
      "Note: you may need to restart the kernel to use updated packages.\n"
     ]
    },
    {
     "name": "stderr",
     "output_type": "stream",
     "text": [
      "\n",
      "[notice] A new release of pip is available: 23.2.1 -> 24.0\n",
      "[notice] To update, run: python.exe -m pip install --upgrade pip\n"
     ]
    }
   ],
   "source": [
    "pip install --upgrade setuptools"
   ]
  },
  {
   "cell_type": "code",
   "execution_count": 5,
   "metadata": {},
   "outputs": [],
   "source": [
    "with open (r'./BALANCED-DATA.csv' , 'w'  , newline='')as fp:\n",
    "    writer = csv.writer(fp)\n",
    "    writer.writerow(['chroma','rms','zcr','spectral_bandwidth','spectral_rolloff','spectral_centroid' ,*mfccs_range , 'Fake'])\n",
    "    for root , dirs, files in os.walk(r'./dataset'):\n",
    "        for file in files:\n",
    "            signal, sr = librosa.load(os.path.join(root,file) , sr=SR)\n",
    "            signal = signal[:len(signal)//SR * SR ]\n",
    "            \n",
    "            #magnitude\n",
    "            chroma = librosa.feature.chroma_stft( y=signal,n_fft=SR , hop_length=HOP)\n",
    "            chroma = np.abs(chroma)\n",
    "            chroma = np.mean(chroma,axis=0)\n",
    "            \n",
    "            rms = librosa.feature.rms(y=signal,frame_length = SR , hop_length=HOP)\n",
    "            zcr = librosa.feature.zero_crossing_rate(y=signal,frame_length = SR , hop_length=HOP)\n",
    "            spectral_bandwidth = librosa.feature.spectral_bandwidth(y=signal,n_fft=SR , hop_length=HOP)\n",
    "            spectral_rolloff = librosa.feature.spectral_rolloff(y=signal,n_fft=SR , hop_length=HOP)\n",
    "            spectral_centroid = librosa.feature.spectral_centroid(y=signal,n_fft=SR , hop_length=HOP)\n",
    "            MFCCs = librosa.feature.mfcc(y=signal,n_mfcc=20,n_fft=SR , hop_length=HOP)\n",
    "            \n",
    "            label = np.ones((rms.shape)) if os.path.basename(root) == 'fake' else np.zeros((rms.shape))\n",
    "            rows = np.c_[chroma.T,rms.T,zcr.T,spectral_bandwidth.T,spectral_centroid.T,spectral_rolloff.T ,MFCCs.T  , label.T]\n",
    "            for row in rows:\n",
    "                writer.writerow(row)"
   ]
  },
  {
   "cell_type": "code",
   "execution_count": null,
   "metadata": {},
   "outputs": [],
   "source": []
  }
 ],
 "metadata": {
  "kernelspec": {
   "display_name": "audio",
   "language": "python",
   "name": "python3"
  },
  "language_info": {
   "codemirror_mode": {
    "name": "ipython",
    "version": 3
   },
   "file_extension": ".py",
   "mimetype": "text/x-python",
   "name": "python",
   "nbconvert_exporter": "python",
   "pygments_lexer": "ipython3",
   "version": "3.12.0"
  }
 },
 "nbformat": 4,
 "nbformat_minor": 2
}
